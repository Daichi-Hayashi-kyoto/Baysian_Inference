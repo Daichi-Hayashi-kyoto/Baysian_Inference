{
 "cells": [
  {
   "cell_type": "code",
   "execution_count": 1,
   "metadata": {},
   "outputs": [
    {
     "data": {
      "image/png": "[encoded data removed]",
      "text/plain": [
       "<Figure size 720x504 with 1 Axes>"
      ]
     },
     "metadata": {
      "needs_background": "light"
     },
     "output_type": "display_data"
    }
   ],
   "source": [
    "import matplotlib.pyplot as plt\n",
    "import numpy as np\n",
    "import scipy.stats as stats\n",
    "import matplotlib.pyplot as plt\n",
    "import seaborn as sns\n",
    "sns.set_style(\"whitegrid\")\n",
    "%matplotlib inline\n",
    "\n",
    "def to_one_hot(s, n_clusters):\n",
    "    return np.eye(n_clusters)[s]\n",
    "\n",
    "\n",
    "# Generate samples\n",
    "n_clusters = 2\n",
    "each_cluster_samples = [200, 300]\n",
    "n_samples = np.sum(each_cluster_samples)\n",
    "pi_true = each_cluster_samples / n_samples\n",
    "\n",
    "s_true = to_one_hot(np.concatenate([np.repeat(i, n) for i, n in enumerate(each_cluster_samples)]),\n",
    "                    n_clusters)\n",
    "\n",
    "lam_true = np.array([10, 30], np.float32)\n",
    "x = np.stack([stats.poisson.rvs(lam_k, size=n_samples)\n",
    "              for lam_k in lam_true], axis=1)\n",
    "x = np.sum(x * s_true, axis=1)\n",
    "\n",
    "fig, axes = plt.subplots(1, 1, figsize = (10, 7))\n",
    "axes.hist(x, bins=int(np.max(x) - np.min(x)), ec = \"black\")\n",
    "plt.show()"
   ]
  },
  {
   "cell_type": "code",
   "execution_count": 2,
   "metadata": {},
   "outputs": [],
   "source": [
    "def log_sum_exp(X):\n",
    "    max_x = np.max(X, axis = 1).reshape(-1, 1)\n",
    "    return np.log(np.sum(np.exp(X - max_x), axis = 1).reshape(-1, 1)) + max_x\n",
    "\n",
    "def Poisson_Mixture_Gibbs_Sampling(data, K, n_iter):\n",
    "\n",
    "    # パラメータの初期値の設定\n",
    "    Pi = np.array([0.5, 0.5])\n",
    "    Lam = np.array([1, 1])\n",
    "    N = len(data)\n",
    "    X = data.reshape(-1, 1) # X.shape = (500, 1)\n",
    "    a = 1\n",
    "    b = 1\n",
    "    a_hat_list = []\n",
    "    b_hat_list = []\n",
    "    alpha = 1  \n",
    "\n",
    "    for _ in range(n_iter):\n",
    "        # 潜在変数Sをサンプリングする\n",
    "        S = np.zeros([N, K])  # 潜在変数Sの初期化\n",
    "        tmp = np.dot(X, np.log(Lam).reshape(1, -1)) - Lam.reshape(1, -1) + np.log(Pi).reshape(1, -1)\n",
    "        eta = np.exp(tmp - log_sum_exp(tmp))\n",
    "        for n in range(N):\n",
    "            S[n, :] = stats.multinomial.rvs(n = 1, p = eta[n, :], size = 1)\n",
    "        \n",
    "        \n",
    "        a_hat_k = np.concatenate(np.dot(X.T, S)) + a # np.concatenateで[[**, **]] --> [**, **]にする\n",
    "        #a_hat = a_hat_k.copy()\n",
    "        #a_hat_list.append(a_hat)\n",
    "\n",
    "        b_hat = np.sum(S, axis = 0) + b\n",
    "        b_hat_list.append(b_hat)\n",
    "\n",
    "        #λのサンプリング\n",
    "        for k in range(K):\n",
    "            Lam[k] = stats.gamma.rvs(a = a_hat_k[k], scale = 1/b_hat[k], size = 1)\n",
    "\n",
    "     \n",
    "        # ディリクレ分布のパラメータ\n",
    "        alpha_hat = np.sum(S, axis = 0) + alpha\n",
    "        # πのサンプリング\n",
    "        Pi = stats.dirichlet.rvs(alpha = alpha_hat)\n",
    "\n",
    "\n",
    "    return S, eta"
   ]
  },
  {
   "cell_type": "code",
   "execution_count": 3,
   "metadata": {
    "scrolled": true
   },
   "outputs": [],
   "source": [
    "S, eta = Poisson_Mixture_Gibbs_Sampling(data = x, K = 2, n_iter = 200)"
   ]
  },
  {
   "cell_type": "code",
   "execution_count": 9,
   "metadata": {},
   "outputs": [
    {
     "name": "stderr",
     "output_type": "stream",
     "text": [
      "/Users/hayashidaichi/anaconda3/lib/python3.6/site-packages/ipykernel_launcher.py:4: DeprecationWarning: object of type <class 'numpy.float64'> cannot be safely interpreted as an integer.\n",
      "  after removing the cwd from sys.path.\n"
     ]
    },
    {
     "data": {
      "image/png": "[encoded data removed]",
      "text/plain": [
       "<Figure size 720x576 with 1 Axes>"
      ]
     },
     "metadata": {
      "needs_background": "light"
     },
     "output_type": "display_data"
    }
   ],
   "source": [
    "# Plot\n",
    "x_max = x.max()\n",
    "x_min = x.min()\n",
    "bins = np.linspace(x_min, x_max, x_max - x_min + 1)\n",
    "x_dig = np.digitize(x, bins)\n",
    "\n",
    "weight = np.zeros(len(bins))\n",
    "count = np.zeros(len(bins))\n",
    "for x_dig_i, eta_0_i in zip(x_dig, eta[:, 0]):   # 組み合わせをzipで取ってくる\n",
    "    weight[x_dig_i - 1] += eta_0_i\n",
    "    count[x_dig_i - 1] += 1\n",
    "\n",
    "weight = [w / c if c != 0 else 0 for w, c in zip(weight, count)]\n",
    "\n",
    "fig, axes = plt.subplots(1, 1, figsize = (10, 8))\n",
    "_, _, patches = axes.hist(x, bins=bins, ec = \"black\")\n",
    "cm = plt.cm.get_cmap('bwr')\n",
    "colors = [cm(w) for w in weight]\n",
    "for patch, color in zip(patches, colors):\n",
    "    patch.set_fc(color)\n",
    "    \n",
    "plt.show()"
   ]
  },
  {
   "cell_type": "code",
   "execution_count": null,
   "metadata": {},
   "outputs": [],
   "source": []
  }
 ],
 "metadata": {
  "kernelspec": {
   "display_name": "Python 3",
   "language": "python",
   "name": "python3"
  },
  "language_info": {
   "codemirror_mode": {
    "name": "ipython",
    "version": 3
   },
   "file_extension": ".py",
   "mimetype": "text/x-python",
   "name": "python",
   "nbconvert_exporter": "python",
   "pygments_lexer": "ipython3",
   "version": "3.6.8"
  }
 },
 "nbformat": 4,
 "nbformat_minor": 2
}
